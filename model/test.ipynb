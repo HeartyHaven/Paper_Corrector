{
 "cells": [
  {
   "cell_type": "code",
   "execution_count": 16,
   "metadata": {},
   "outputs": [],
   "source": [
    "import os\n",
    "os.environ[\"PYTORCH_CUDA_ALLOC_CONF\"] = \"max_split_size_mb:256\""
   ]
  },
  {
   "cell_type": "code",
   "execution_count": 19,
   "metadata": {},
   "outputs": [
    {
     "name": "stderr",
     "output_type": "stream",
     "text": [
      "Loading checkpoint shards: 100%|██████████| 7/7 [00:11<00:00,  1.62s/it]\n"
     ]
    },
    {
     "name": "stdout",
     "output_type": "stream",
     "text": [
      "如果你有任何问题或需要帮助,请随时告诉我。我很乐意为你提供帮助。\n"
     ]
    }
   ],
   "source": [
    "from transformers import AutoTokenizer, AutoModel\n",
    "import torch\n",
    "torch.cuda.set_device(2)\n",
    "torch.cuda.empty_cache()\n",
    "model = AutoModel.from_pretrained(\"THUDM/chatglm2-6b\", trust_remote_code=True).half().cuda()\n",
    "torch.cuda.empty_cache()\n",
    "tokenizer = AutoTokenizer.from_pretrained(\"THUDM/chatglm2-6b\", trust_remote_code=True)\n",
    "\n",
    "model = model.eval()\n",
    "\n",
    "response, history = model.chat(tokenizer, \"你有什么要对我说的吗\", history=[])\n",
    "print(response)"
   ]
  },
  {
   "cell_type": "code",
   "execution_count": 7,
   "metadata": {},
   "outputs": [
    {
     "name": "stdout",
     "output_type": "stream",
     "text": [
      "Defaulting to user installation because normal site-packages is not writeable\n",
      "Requirement already satisfied: goto-statement in /home/grammar/.local/lib/python3.9/site-packages (1.2)\n",
      "\u001b[33mWARNING: You are using pip version 22.0.4; however, version 23.1.2 is available.\n",
      "You should consider upgrading via the '/usr/local/bin/python3.9 -m pip install --upgrade pip' command.\u001b[0m\u001b[33m\n",
      "\u001b[0m"
     ]
    }
   ],
   "source": [
    "! pip install goto-statement"
   ]
  },
  {
   "cell_type": "code",
   "execution_count": 20,
   "metadata": {},
   "outputs": [
    {
     "name": "stdout",
     "output_type": "stream",
     "text": [
      "句子本身没有明显的语法或语义错误,可以被视为健康的句子。\n"
     ]
    }
   ],
   "source": [
    "response, history = model.chat(tokenizer, \"请判断如下句子是否是病句，如果是，请判断错误的类别并且返回修改后的结果。句子： 做科学上的事实判断，不同的人从不同的视角、不同的方式为出发点，终究可以获得一致的结论，达成某种程度的一致的意见。\", history=[])\n",
    "print(response)"
   ]
  },
  {
   "cell_type": "code",
   "execution_count": null,
   "metadata": {},
   "outputs": [],
   "source": [
    "import csv\n",
    "import json\n",
    "\n",
    "jsonfile=open('resp.json','w',encoding='gb2312')\n",
    "count=1\n",
    "notwritten=[]\n",
    "with open('dataset.csv', 'r',encoding='gb2312') as f:\n",
    "    reader = csv.reader(f)\n",
    "    next(reader)\n",
    "    for row in reader:\n",
    "        text=row[1]\n",
    "        # print(text)\n",
    "        with open('prompt.txt','r',encoding='utf-8')as f:\n",
    "            prompt=f.read()\n",
    "            # print(prompt)\n",
    "            prompt=prompt+f\"\\n#\\n{text}\\n#\"\n",
    "            # print(prompt)\n",
    "            response, history = model.chat(tokenizer, prompt, history=[])\n",
    "            # print(response)\n",
    "            try:\n",
    "                respjson=json.loads(response)\n",
    "                \n",
    "            except:\n",
    "                print('not written!')\n",
    "                notwritten.append(count)\n",
    "                pass\n",
    "            json.dump(respjson,jsonfile)\n",
    "            jsonfile.write(',')\n",
    "            print(count)\n",
    "            count+=1\n",
    "    jsonfile.close()\n",
    "        "
   ]
  },
  {
   "cell_type": "code",
   "execution_count": 23,
   "metadata": {},
   "outputs": [],
   "source": [
    "jsonfile.close()"
   ]
  },
  {
   "cell_type": "code",
   "execution_count": 4,
   "metadata": {},
   "outputs": [],
   "source": [
    "import json\n",
    "with open('resp.json','r',encoding='utf-8')as f:\n",
    "    data=json.load(f)\n",
    "with open('resp.json', 'w', encoding='utf-8') as f:\n",
    "    json.dump(data, f, ensure_ascii=False, indent=4)"
   ]
  },
  {
   "cell_type": "code",
   "execution_count": 23,
   "metadata": {},
   "outputs": [],
   "source": [
    "with open('resp.csv','w',encoding='utf-8') as f:\n",
    "    writer=csv.writer(f)\n",
    "    writer.writerow(data[0].keys())\n",
    "    for item in data:\n",
    "        writer.writerow(item.values())"
   ]
  },
  {
   "cell_type": "markdown",
   "metadata": {},
   "source": [
    "modify&test:"
   ]
  },
  {
   "cell_type": "code",
   "execution_count": 24,
   "metadata": {},
   "outputs": [
    {
     "name": "stdout",
     "output_type": "stream",
     "text": [
      "Error: Expected 3 fields in line 38, saw 4\n",
      "line  38 has been modified!\n",
      "Error: Expected 3 fields in line 39, saw 4\n",
      "line  39 has been modified!\n",
      "Error: Expected 3 fields in line 40, saw 4\n",
      "line  40 has been modified!\n",
      "Error: Expected 3 fields in line 41, saw 4\n",
      "line  41 has been modified!\n",
      "Error: Expected 3 fields in line 43, saw 4\n",
      "line  43 has been modified!\n",
      "Error: Expected 3 fields in line 66, saw 4\n",
      "line  66 has been modified!\n",
      "Error: Expected 3 fields in line 67, saw 4\n",
      "line  67 has been modified!\n",
      "Error: Expected 3 fields in line 68, saw 4\n",
      "line  68 has been modified!\n",
      "Error: Expected 3 fields in line 78, saw 4\n",
      "line  78 has been modified!\n",
      "Error: Expected 3 fields in line 105, saw 4\n",
      "line  105 has been modified!\n",
      "Error: Expected 3 fields in line 106, saw 4\n",
      "line  106 has been modified!\n",
      "Error: Expected 3 fields in line 134, saw 4\n",
      "line  134 has been modified!\n",
      "Error: Expected 3 fields in line 135, saw 4\n",
      "line  135 has been modified!\n",
      "Error: Expected 3 fields in line 138, saw 4\n",
      "line  138 has been modified!\n",
      "Error: Expected 3 fields in line 139, saw 4\n",
      "line  139 has been modified!\n",
      "Error: Expected 3 fields in line 140, saw 4\n",
      "line  140 has been modified!\n",
      "Error: Expected 3 fields in line 151, saw 4\n",
      "line  151 has been modified!\n",
      "Error: Expected 3 fields in line 160, saw 4\n",
      "line  160 has been modified!\n",
      "Error: Expected 3 fields in line 161, saw 4\n",
      "line  161 has been modified!\n",
      "Error: Expected 3 fields in line 162, saw 4\n",
      "line  162 has been modified!\n",
      "Error: Expected 3 fields in line 218, saw 4\n",
      "line  218 has been modified!\n",
      "Error: Expected 3 fields in line 219, saw 4\n",
      "line  219 has been modified!\n",
      "Error: Expected 3 fields in line 220, saw 4\n",
      "line  220 has been modified!\n",
      "Error: Expected 3 fields in line 281, saw 4\n",
      "line  281 has been modified!\n",
      "Error: Expected 3 fields in line 312, saw 4\n",
      "line  312 has been modified!\n",
      "Error: Expected 3 fields in line 335, saw 4\n",
      "line  335 has been modified!\n",
      "Error: Expected 3 fields in line 423, saw 4\n",
      "line  423 has been modified!\n",
      "Error: Expected 3 fields in line 500, saw 4\n",
      "line  500 has been modified!\n",
      "Error: Expected 3 fields in line 524, saw 4\n",
      "line  524 has been modified!\n",
      "Error: Expected 3 fields in line 598, saw 4\n",
      "line  598 has been modified!\n",
      "Error: Expected 3 fields in line 599, saw 4\n",
      "line  599 has been modified!\n",
      "Error: Expected 3 fields in line 600, saw 4\n",
      "line  600 has been modified!\n",
      "Error: Expected 3 fields in line 601, saw 4\n",
      "line  601 has been modified!\n",
      "Error: Expected 3 fields in line 603, saw 4\n",
      "line  603 has been modified!\n",
      "Error: Expected 3 fields in line 604, saw 4\n",
      "line  604 has been modified!\n",
      "Error: Expected 3 fields in line 605, saw 4\n",
      "line  605 has been modified!\n",
      "Error: Expected 3 fields in line 628, saw 4\n",
      "line  628 has been modified!\n",
      "Error: Expected 3 fields in line 768, saw 4\n",
      "line  768 has been modified!\n",
      "Error: Expected 3 fields in line 773, saw 4\n",
      "line  773 has been modified!\n",
      "Error: Expected 3 fields in line 933, saw 4\n",
      "line  933 has been modified!\n",
      "Error: Expected 3 fields in line 966, saw 4\n",
      "line  966 has been modified!\n",
      "Error: Expected 3 fields in line 967, saw 4\n",
      "line  967 has been modified!\n"
     ]
    }
   ],
   "source": [
    "import pandas as pd\n",
    "import csv\n",
    "content=[]\n",
    "with open('resp.csv', 'r') as f:\n",
    "    reader = csv.reader(f)\n",
    "    # print(type(reader))\n",
    "    header = next(reader) # 读取表头\n",
    "    num_fields = len(header) # 字段数目\n",
    "    content.append(header)\n",
    "    for row in reader:\n",
    "        # print(type(row))\n",
    "        if len(row) != num_fields:\n",
    "            print(f\"Error: Expected {num_fields} fields in line {reader.line_num}, saw {len(row)}\")\n",
    "            del row[2]\n",
    "            print('line ',reader.line_num,'has been modified!')\n",
    "        content.append(row)\n",
    "with open('resp.csv', 'w') as f:\n",
    "    writer = csv.writer(f)\n",
    "    writer.writerows(content)\n"
   ]
  },
  {
   "cell_type": "markdown",
   "metadata": {},
   "source": [
    "transform encoding"
   ]
  },
  {
   "cell_type": "code",
   "execution_count": 8,
   "metadata": {},
   "outputs": [],
   "source": [
    "import codecs\n",
    "\n",
    "with open('dataset.csv', 'r', encoding='gb2312') as f:\n",
    "    reader = csv.reader(f)\n",
    "    rows = [row for row in reader]\n",
    "\n",
    "with codecs.open('dataset.csv', 'w', encoding='utf-8') as f:\n",
    "    writer = csv.writer(f)\n",
    "    writer.writerows(rows)"
   ]
  },
  {
   "cell_type": "code",
   "execution_count": null,
   "metadata": {},
   "outputs": [],
   "source": [
    "df1=pd.read_csv('dataset.csv',low_memory=False)\n",
    "print(df1)\n",
    "# for i in df1:\n",
    "#     print(i)\n",
    "# print(df1.keys)\n",
    "df2=pd.read_csv('resp.csv')\n",
    "print(df2)\n",
    "# for i in df2:\n",
    "    # print(i)\n",
    "df=pd.merge(df2,df1,on=\"病句\",how='left')\n",
    "df.to_csv('test.csv', encoding=\"utf_8_sig\")"
   ]
  },
  {
   "cell_type": "markdown",
   "metadata": {},
   "source": [
    "莫名其妙就能跑了。。。"
   ]
  },
  {
   "cell_type": "code",
   "execution_count": 37,
   "metadata": {},
   "outputs": [
    {
     "name": "stdout",
     "output_type": "stream",
     "text": [
      "judging accuracy: 0.0\n",
      "modifying cohesion: 0.0\n"
     ]
    }
   ],
   "source": [
    "with open('test.csv','r')as f:\n",
    "    judge_wrong=0\n",
    "    modify_wrong=0\n",
    "    tot_num=0\n",
    "    reader = csv.reader(f)\n",
    "    header=next(reader)\n",
    "    for row in reader:\n",
    "        if row[2]!=row[5]:\n",
    "            judge_wrong+=1\n",
    "        if row[3]!=row[4]:\n",
    "            modify_wrong+=1\n",
    "        tot_num+=1\n",
    "jug_acc=1-judge_wrong/tot_num\n",
    "mod_acc=1-modify_wrong/tot_num\n",
    "print(\"judging accuracy:\",jug_acc)\n",
    "print(\"modifying cohesion:\",mod_acc)\n",
    "        "
   ]
  }
 ],
 "metadata": {
  "kernelspec": {
   "display_name": "Python 3",
   "language": "python",
   "name": "python3"
  },
  "language_info": {
   "codemirror_mode": {
    "name": "ipython",
    "version": 3
   },
   "file_extension": ".py",
   "mimetype": "text/x-python",
   "name": "python",
   "nbconvert_exporter": "python",
   "pygments_lexer": "ipython3",
   "version": "3.9.16"
  },
  "orig_nbformat": 4
 },
 "nbformat": 4,
 "nbformat_minor": 2
}
